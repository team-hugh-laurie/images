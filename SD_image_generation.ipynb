{
 "cells": [
  {
   "cell_type": "code",
   "execution_count": null,
   "id": "ace76548",
   "metadata": {},
   "outputs": [],
   "source": [
    "import pandas as pd\n",
    "from diffusers import DiffusionPipeline\n",
    "import torch"
   ]
  },
  {
   "cell_type": "code",
   "execution_count": null,
   "id": "d324d73c",
   "metadata": {},
   "outputs": [],
   "source": [
    "base = DiffusionPipeline.from_pretrained(\n",
    "    \"stabilityai/stable-diffusion-xl-base-1.0\", \n",
    "    torch_dtype=torch.float16, variant=\"fp16\",\n",
    "    use_safetensors=True\n",
    ")\n",
    "base.enable_model_cpu_offload()\n",
    "refiner = DiffusionPipeline.from_pretrained(\n",
    "    \"stabilityai/stable-diffusion-xl-refiner-1.0\",\n",
    "    text_encoder_2=base.text_encoder_2,\n",
    "    vae=base.vae,\n",
    "    torch_dtype=torch.float16,\n",
    "    use_safetensors=True,\n",
    "    variant=\"fp16\",\n",
    ")\n",
    "refiner.enable_model_cpu_offload()\n",
    "\n",
    "n_steps = 100\n",
    "high_noise_frac = 0.9\n",
    "\n",
    "def generate_image(word):\n",
    "    prompt = f\"one {word}, minimalist, watercolor, only one subject, white background, preset cartoon\"\n",
    "    image = base(\n",
    "        prompt=prompt,\n",
    "        num_inference_steps=n_steps,\n",
    "        denoising_end=high_noise_frac,\n",
    "        output_type=\"latent\",\n",
    "    ).images\n",
    "    image = refiner(\n",
    "        prompt=prompt,\n",
    "        num_inference_steps=n_steps,\n",
    "        denoising_start=high_noise_frac,\n",
    "        image=image,\n",
    "    ).images[0]\n",
    "    image.save(f'{word}.png')\n",
    "    return\n"
   ]
  },
  {
   "cell_type": "code",
   "execution_count": null,
   "id": "7dfc0760",
   "metadata": {},
   "outputs": [],
   "source": [
    "words = pd.read_csv('100words.csv',sep=';',header=None)\n",
    "\n",
    "for word in words[0]:\n",
    "     generate_image(word)"
   ]
  }
 ],
 "metadata": {
  "kernelspec": {
   "display_name": "Python 3 (ipykernel)",
   "language": "python",
   "name": "python3"
  },
  "language_info": {
   "codemirror_mode": {
    "name": "ipython",
    "version": 3
   },
   "file_extension": ".py",
   "mimetype": "text/x-python",
   "name": "python",
   "nbconvert_exporter": "python",
   "pygments_lexer": "ipython3",
   "version": "3.8.10"
  }
 },
 "nbformat": 4,
 "nbformat_minor": 5
}
