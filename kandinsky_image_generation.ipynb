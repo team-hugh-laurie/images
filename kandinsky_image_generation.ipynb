{
 "cells": [
  {
   "cell_type": "code",
   "execution_count": null,
   "id": "b9e1f0ab",
   "metadata": {},
   "outputs": [],
   "source": [
    "import pandas as pd\n",
    "from diffusers import DiffusionPipeline, KandinskyV22Pipeline, KandinskyV22PriorPipeline\n",
    "import torch"
   ]
  },
  {
   "cell_type": "code",
   "execution_count": null,
   "id": "374c4942",
   "metadata": {},
   "outputs": [],
   "source": [
    "pipe_prior = KandinskyV22PriorPipeline.from_pretrained(\"kandinsky-community/kandinsky-2-2-prior\",torch_dtype=torch.float16)\n",
    "pipe_prior.to(\"cuda\")\n",
    "pipe_prior.enable_model_cpu_offload()\n",
    "\n",
    "pipe = KandinskyV22Pipeline.from_pretrained(\"kandinsky-community/kandinsky-2-2-decoder\",torch_dtype=torch.float16)\n",
    "pipe.to(\"cuda\")\n",
    "def generate(word):\n",
    "    prompt = f\"{word}, minimalist, watercolor\"\n",
    "    out = pipe_prior(prompt)\n",
    "    image_emb = out.image_embeds\n",
    "    zero_image_emb = out.negative_image_embeds\n",
    "    image = pipe(\n",
    "        image_embeds=image_emb,\n",
    "        negative_image_embeds=zero_image_emb,\n",
    "        height=768,\n",
    "        width=768,\n",
    "        num_inference_steps=50,\n",
    "    ).images\n",
    "    out.images[0].save(f\"{word}.png\")\n",
    "    return"
   ]
  },
  {
   "cell_type": "code",
   "execution_count": null,
   "id": "8ace67be",
   "metadata": {},
   "outputs": [],
   "source": [
    "words = pd.read_csv('100words.csv',sep=';',header=None)\n",
    "\n",
    "for word in words[0]:\n",
    "     generate_image(word)"
   ]
  }
 ],
 "metadata": {
  "kernelspec": {
   "display_name": "Python 3 (ipykernel)",
   "language": "python",
   "name": "python3"
  },
  "language_info": {
   "codemirror_mode": {
    "name": "ipython",
    "version": 3
   },
   "file_extension": ".py",
   "mimetype": "text/x-python",
   "name": "python",
   "nbconvert_exporter": "python",
   "pygments_lexer": "ipython3",
   "version": "3.8.10"
  }
 },
 "nbformat": 4,
 "nbformat_minor": 5
}
